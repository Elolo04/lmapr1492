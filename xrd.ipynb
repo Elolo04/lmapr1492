{
 "cells": [
  {
   "cell_type": "markdown",
   "id": "60e7059e",
   "metadata": {},
   "source": [
    "## Diffraction des rayons X par un cristal\n",
    "La diffraction des rayons X est une technique utilisée pour analyser la structure cristalline des matériaux. Lorsqu'un faisceau de rayons X frappe un matériau cristallin, il est diffracté suivant des angles spécifiques qui dépendent de la structure du cristal.\n",
    "\n",
    "La relation entre l'angle de diffraction et la distance inter-réticulaire est donnée par la loi de Bragg :\n",
    "\n",
    "$$ n\\lambda = 2d\\sin\\theta $$\n",
    "\n",
    "où :\n",
    "- n est un entier (ordre de diffraction),\n",
    "- $\\lambda$  est la longueur d'onde des rayons X utilisés,\n",
    "- d est la distance entre les plans cristallins,\n",
    "- $\\theta$ est l'angle de diffraction.\n",
    "\n",
    "Cette technique permet de déterminer la structure cristallographique des matériaux."
   ]
  },
  {
   "cell_type": "code",
   "execution_count": 38,
   "id": "754b509c",
   "metadata": {},
   "outputs": [],
   "source": [
    "import numpy as np\n",
    "from pymatgen.symmetry.analyzer import SpacegroupAnalyzer\n",
    "from pymatgen.analysis.diffraction.xrd import XRDCalculator\n",
    "from pymatgen.core.structure import Structure\n",
    "from mp_api.client import MPRester\n",
    "import matplotlib.pyplot as plt\n"
   ]
  },
  {
   "cell_type": "markdown",
   "id": "598959b4",
   "metadata": {},
   "source": [
    "## Chargement de la structure cristalline\n",
    "Nous utilisons ici **Materials Project** pour récupérer la structure cristalline d'un matériau donné."
   ]
  },
  {
   "cell_type": "code",
   "execution_count": 39,
   "id": "ab92db4e",
   "metadata": {},
   "outputs": [
    {
     "data": {
      "application/vnd.jupyter.widget-view+json": {
       "model_id": "cc047a2817dd44bbb8fb0cbde68e4ed4",
       "version_major": 2,
       "version_minor": 0
      },
      "text/plain": [
       "Retrieving MaterialsDoc documents:   0%|          | 0/1 [00:00<?, ?it/s]"
      ]
     },
     "metadata": {},
     "output_type": "display_data"
    }
   ],
   "source": [
    "mp_key = \"fShF0m8lEepeLAjHYRHR50cMgpJGq7yr\"\n",
    "mp_id = \"mp-16763\"\n",
    "with MPRester(mp_key) as m:\n",
    "    structure = m.get_structure_by_material_id(mp_id)"
   ]
  },
  {
   "cell_type": "markdown",
   "id": "5709de17",
   "metadata": {},
   "source": [
    "## Calcul du diffractogramme\n",
    "Avec la structure récupérée, nous utilisons le module `XRDCalculator` de **pymatgen** pour calculer le spectre de diffraction des rayons X du matériau sélectionné.\n",
    "\n",
    "Le spectre est calculé pour un intervalle d'angles $2\\theta$ allant de 0° à 90°."
   ]
  },
  {
   "cell_type": "code",
   "execution_count": 40,
   "id": "e809d22d",
   "metadata": {},
   "outputs": [],
   "source": [
    "lambda_RX =  1.54060 \n",
    "xrd_calculator = XRDCalculator(wavelength=lambda_RX)\n",
    "diffraction_pattern = xrd_calculator.get_pattern(structure, two_theta_range=(0, 90))"
   ]
  },
  {
   "cell_type": "markdown",
   "id": "5b3fee91",
   "metadata": {},
   "source": [
    "## Analyse des trois premiers pics de diffraction\n",
    "Dans cette section, nous extrayons les **trois premiers pics** du spectre de diffraction.\n",
    "\n",
    "Chaque pic est défini par :\n",
    "- **L'angle $2\\theta$** : position du pic,\n",
    "- **L'intensité** : quantité de rayon diffractés dans cette direction,\n",
    "- **Les indices de Miller (hkl)** : caractérisent le plan cristallin responsable de la diffraction.\n"
   ]
  },
  {
   "cell_type": "code",
   "execution_count": 41,
   "id": "5610ee55",
   "metadata": {},
   "outputs": [
    {
     "name": "stdout",
     "output_type": "stream",
     "text": [
      "Trois premiers pics:\n",
      "2θ: 10.82°, intensity: 25.160538579425065, hkl: [{'hkl': (1, 1, 1), 'multiplicity': 2}]\n",
      "2θ: 21.75°, intensity: 2.9377759489268773, hkl: [{'hkl': (2, 2, 2), 'multiplicity': 2}]\n",
      "2θ: 23.11°, intensity: 0.9105259866293605, hkl: [{'hkl': (1, 0, 0), 'multiplicity': 6}]\n"
     ]
    }
   ],
   "source": [
    "two_theta_vals = diffraction_pattern.x\n",
    "intensities = diffraction_pattern.y\n",
    "hkl_indices = diffraction_pattern.hkls\n",
    "\n",
    "print(\"Trois premiers pics:\")\n",
    "for i in range(3):\n",
    "    print(f\"2θ: {two_theta_vals[i]:.2f}°, intensity: {intensities[i]}, hkl: {hkl_indices[i]}\")\n"
   ]
  },
  {
   "cell_type": "code",
   "execution_count": 43,
   "id": "565111ec",
   "metadata": {},
   "outputs": [
    {
     "data": {
      "image/png": "[encoded data removed]",
      "text/plain": [
       "<Figure size 800x500 with 1 Axes>"
      ]
     },
     "metadata": {},
     "output_type": "display_data"
    }
   ],
   "source": [
    "# Création du graphique\n",
    "plt.figure(figsize=(8, 5))\n",
    "plt.bar(two_theta_vals, intensities, color='blue')\n",
    "\n",
    "plt.xlabel(\"2θ (degrees)\")\n",
    "plt.ylabel(\"Intensity\")\n",
    "plt.title(\"Diffraction Pattern\")\n",
    "plt.grid()\n",
    "plt.show()"
   ]
  }
 ],
 "metadata": {
  "kernelspec": {
   "display_name": "Python 3",
   "language": "python",
   "name": "python3"
  },
  "language_info": {
   "codemirror_mode": {
    "name": "ipython",
    "version": 3
   },
   "file_extension": ".py",
   "mimetype": "text/x-python",
   "name": "python",
   "nbconvert_exporter": "python",
   "pygments_lexer": "ipython3",
   "version": "3.10.5"
  }
 },
 "nbformat": 4,
 "nbformat_minor": 5
}
