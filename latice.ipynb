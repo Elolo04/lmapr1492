{
 "cells": [
  {
   "cell_type": "code",
   "execution_count": 1,
   "id": "bb08351b",
   "metadata": {},
   "outputs": [],
   "source": [
    "import numpy as np\n",
    "from pymatgen.symmetry.analyzer import SpacegroupAnalyzer\n",
    "from pymatgen.core.structure import Structure\n",
    "from mp_api.client import MPRester"
   ]
  },
  {
   "cell_type": "code",
   "execution_count": 2,
   "id": "1ff03898",
   "metadata": {},
   "outputs": [],
   "source": [
    "mp_key = \"fShF0m8lEepeLAjHYRHR50cMgpJGq7yr\"\n",
    "mp_id = \"mp-16763\""
   ]
  },
  {
   "cell_type": "code",
   "execution_count": 3,
   "id": "64d0a9d9",
   "metadata": {},
   "outputs": [
    {
     "data": {
      "application/vnd.jupyter.widget-view+json": {
       "model_id": "ee4e47750e6547179a9d2475f7d87409",
       "version_major": 2,
       "version_minor": 0
      },
      "text/plain": [
       "Retrieving MaterialsDoc documents:   0%|          | 0/1 [00:00<?, ?it/s]"
      ]
     },
     "metadata": {},
     "output_type": "display_data"
    }
   ],
   "source": [
    "with MPRester(mp_key) as m:\n",
    "    prim_struc = m.get_structure_by_material_id(mp_id)\n",
    "conv_struc = SpacegroupAnalyzer(prim_struc).get_conventional_standard_structure()\n"
   ]
  },
  {
   "cell_type": "code",
   "execution_count": 4,
   "id": "b2f02557",
   "metadata": {},
   "outputs": [
    {
     "name": "stdout",
     "output_type": "stream",
     "text": [
      "Direct lattice vectors:\n",
      "[[ 2.24767975 -3.89309553  0.        ]\n",
      " [ 2.24767975  3.89309553  0.        ]\n",
      " [ 0.          0.         24.50106915]]\n",
      "Reciprocal lattice vectors:\n",
      "[[ 1.39770474 -0.80696521  0.        ]\n",
      " [ 1.39770474  0.80696521  0.        ]\n",
      " [ 0.          0.          0.25644535]]\n",
      "Lattice type: rhombohedral\n",
      "Crystal system: trigonal\n",
      "Point group: -3m\n"
     ]
    }
   ],
   "source": [
    "# Vecteurs de base du réseau direct\n",
    "direct_lattice = conv_struc.lattice\n",
    "print(\"Direct lattice vectors:\")\n",
    "print(direct_lattice.matrix)\n",
    "\n",
    "# Vecteurs de base du réseau réciproque\n",
    "reciprocal_lattice = direct_lattice.reciprocal_lattice\n",
    "print(\"Reciprocal lattice vectors:\")\n",
    "print(reciprocal_lattice.matrix)\n",
    "\n",
    "# Type de maille, système cristallin et groupe ponctuel\n",
    "analyzer = SpacegroupAnalyzer(conv_struc)\n",
    "lattice_type = analyzer.get_lattice_type()\n",
    "crystal_system = analyzer.get_crystal_system()\n",
    "point_group = analyzer.get_point_group_symbol()\n",
    "\n",
    "print(\"Lattice type:\", lattice_type)\n",
    "print(\"Crystal system:\", crystal_system)\n",
    "print(\"Point group:\", point_group)"
   ]
  },
  {
   "cell_type": "code",
   "execution_count": null,
   "id": "42be92e5",
   "metadata": {},
   "outputs": [],
   "source": []
  }
 ],
 "metadata": {
  "kernelspec": {
   "display_name": "Python 3 (ipykernel)",
   "language": "python",
   "name": "python3"
  },
  "language_info": {
   "codemirror_mode": {
    "name": "ipython",
    "version": 3
   },
   "file_extension": ".py",
   "mimetype": "text/x-python",
   "name": "python",
   "nbconvert_exporter": "python",
   "pygments_lexer": "ipython3",
   "version": "3.9.13"
  }
 },
 "nbformat": 4,
 "nbformat_minor": 5
}
