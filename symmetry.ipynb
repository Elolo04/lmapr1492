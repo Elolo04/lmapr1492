{
 "cells": [
  {
   "cell_type": "code",
   "execution_count": 52,
   "id": "6374421e",
   "metadata": {},
   "outputs": [],
   "source": [
    "import numpy as np\n",
    "from pymatgen.core.operations import SymmOp\n",
    "from pymatgen.symmetry.analyzer import SpacegroupAnalyzer\n",
    "from pymatgen.core.structure import Structure\n",
    "from mp_api.client import MPRester\n",
    "from jupyter_jsmol import JsmolView\n",
    "from jupyter_jsmol.pymatgen import quick_view"
   ]
  },
  {
   "cell_type": "code",
   "execution_count": 53,
   "id": "e6642699",
   "metadata": {},
   "outputs": [],
   "source": [
    "mp_key = \"fShF0m8lEepeLAjHYRHR50cMgpJGq7yr\"\n",
    "mp_id = \"mp-16763\""
   ]
  },
  {
   "cell_type": "code",
   "execution_count": 54,
   "id": "06827f5e",
   "metadata": {},
   "outputs": [
    {
     "data": {
      "application/vnd.jupyter.widget-view+json": {
       "model_id": "db58985faf6342efaa673b37ed51dc6a",
       "version_major": 2,
       "version_minor": 0
      },
      "text/plain": [
       "Retrieving MaterialsDoc documents:   0%|          | 0/1 [00:00<?, ?it/s]"
      ]
     },
     "metadata": {},
     "output_type": "display_data"
    }
   ],
   "source": [
    "with MPRester(mp_key) as m:\n",
    "    prim_struc = m.get_structure_by_material_id(mp_id)\n",
    "conv_struc = SpacegroupAnalyzer(prim_struc).get_conventional_standard_structure()\n",
    "symmops = SpacegroupAnalyzer(conv_struc).get_space_group_operations()"
   ]
  },
  {
   "cell_type": "code",
   "execution_count": 55,
   "id": "0dadfaca",
   "metadata": {},
   "outputs": [
    {
     "name": "stdout",
     "output_type": "stream",
     "text": [
      "Symétrie 1:\n",
      "Rot:\n",
      "[[ 0.  1.  0.]\n",
      " [-1.  1.  0.]\n",
      " [ 0.  0. -1.]]\n",
      "tau\n",
      "[0. 0. 0.]\n",
      "\n",
      "Symétrie 2:\n",
      "Rot:\n",
      "[[-1.  0.  0.]\n",
      " [-1.  1.  0.]\n",
      " [ 0.  0. -1.]]\n",
      "tau\n",
      "[0. 0. 0.]\n",
      "\n",
      "Symétrie 3:\n",
      "Rot:\n",
      "[[ 1. -1.  0.]\n",
      " [ 0. -1.  0.]\n",
      " [ 0.  0. -1.]]\n",
      "tau\n",
      "[0.66666667 0.33333333 0.33333333]\n",
      "\n"
     ]
    }
   ],
   "source": [
    "atoms_indices = [2, 5, 8] \n",
    "symmetry_ops = [symmops[3], symmops[10], symmops[20]]  \n",
    "\n",
    "for i, symmop in enumerate(symmetry_ops):\n",
    "    print(f\"Symétrie {i+1}:\")\n",
    "    print(symmop)\n",
    "    print()"
   ]
  },
  {
   "cell_type": "code",
   "execution_count": 56,
   "id": "97a0c93d",
   "metadata": {},
   "outputs": [
    {
     "name": "stdout",
     "output_type": "stream",
     "text": [
      "Atome 2 :\n",
      "  Coordonnées initiales : [0.66666667 0.33333333 0.83333333]\n",
      "  Coordonnées transformées : [ 0.33333333 -0.33333333 -0.83333333]\n",
      "\n",
      "Atome 5 :\n",
      "  Coordonnées initiales : [0.33333333 0.66666667 0.66666667]\n",
      "  Coordonnées transformées : [-0.33333333  0.33333333 -0.66666667]\n",
      "\n",
      "Atome 8 :\n",
      "  Coordonnées initiales : [0.66666667 0.33333333 0.59667508]\n",
      "  Coordonnées transformées : [ 1.          0.         -0.26334175]\n",
      "\n"
     ]
    }
   ],
   "source": [
    "# Création d'une liste pour stocker les nouvelles positions des atomes\n",
    "transformed_positions = []\n",
    "\n",
    "for i in range(3):  # On applique une transformation par atome\n",
    "    original_coords = conv_struc[atoms_indices[i]].frac_coords  # Coordonnées initiales\n",
    "    transformed_coords = symmetry_ops[i].operate(original_coords)  # Application de la transformation\n",
    "    \n",
    "    transformed_positions.append(transformed_coords)\n",
    "    print(f\"Atome {atoms_indices[i]} :\")\n",
    "    print(f\"  Coordonnées initiales : {original_coords}\")\n",
    "    print(f\"  Coordonnées transformées : {transformed_coords}\\n\")"
   ]
  },
  {
   "cell_type": "code",
   "execution_count": 57,
   "id": "1c5f456b",
   "metadata": {},
   "outputs": [
    {
     "name": "stdout",
     "output_type": "stream",
     "text": [
      "Structure originale :\n"
     ]
    },
    {
     "data": {
      "application/vnd.jupyter.widget-view+json": {
       "model_id": "17691eb925c24b73b0d7f5fc822728d9",
       "version_major": 2,
       "version_minor": 0
      },
      "text/plain": [
       "JsmolView(layout=Layout(align_self='stretch', height='400px'))"
      ]
     },
     "metadata": {},
     "output_type": "display_data"
    }
   ],
   "source": [
    "# Visualisation de la structure originale\n",
    "print(\"Structure originale :\")\n",
    "view_orig = quick_view(conv_struc, \"packed\", conventional=True)\n",
    "display(view_orig)"
   ]
  },
  {
   "cell_type": "code",
   "execution_count": 58,
   "id": "fac7477c",
   "metadata": {},
   "outputs": [
    {
     "name": "stdout",
     "output_type": "stream",
     "text": [
      "Structure après transformation :\n"
     ]
    },
    {
     "data": {
      "application/vnd.jupyter.widget-view+json": {
       "model_id": "e4e349f22460481286ee19d7d280ff7d",
       "version_major": 2,
       "version_minor": 0
      },
      "text/plain": [
       "JsmolView(layout=Layout(align_self='stretch', height='400px'))"
      ]
     },
     "metadata": {},
     "output_type": "display_data"
    }
   ],
   "source": [
    "# Création d'une structure modifiée\n",
    "modified_structure = conv_struc.copy()\n",
    "for i in range(3):\n",
    "    modified_structure.append(\"Si\", transformed_positions[i], coords_are_cartesian=False)  # Remplace \"X\" par un élément valide\n",
    "\n",
    "# Visualisation de la structure transformée\n",
    "print(\"Structure après transformation :\")\n",
    "view_transformed = quick_view(modified_structure, \"packed\", conventional=True)\n",
    "display(view_transformed)"
   ]
  }
 ],
 "metadata": {
  "kernelspec": {
   "display_name": "Python 3",
   "language": "python",
   "name": "python3"
  },
  "language_info": {
   "codemirror_mode": {
    "name": "ipython",
    "version": 3
   },
   "file_extension": ".py",
   "mimetype": "text/x-python",
   "name": "python",
   "nbconvert_exporter": "python",
   "pygments_lexer": "ipython3",
   "version": "3.10.5"
  }
 },
 "nbformat": 4,
 "nbformat_minor": 5
}
